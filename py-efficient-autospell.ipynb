{
 "cells": [
  {
   "cell_type": "markdown",
   "id": "c53c9cba",
   "metadata": {
    "papermill": {
     "duration": 0.006693,
     "end_time": "2022-08-02T17:55:14.828902",
     "exception": false,
     "start_time": "2022-08-02T17:55:14.822209",
     "status": "completed"
    },
    "tags": []
   },
   "source": [
    "# Motivation \n",
    "\n",
    "no spell checker currently exist that can work for compound words like **studentdesigned,teacherdesigned** etc\n",
    "\n",
    "note that **studentdesigned** is a compound word that need to be splitted like **'student designed'**\n",
    "similarly,\n",
    "**teacherdesigned** should be splitted like **'teacher designed'**\n",
    "there are many of such misspelled samples exists for what currently no existing english spell checker can work. this implementation attemps to tackle this compound word problem"
   ]
  },
  {
   "cell_type": "markdown",
   "id": "bb799e1d",
   "metadata": {
    "papermill": {
     "duration": 0.004404,
     "end_time": "2022-08-02T17:55:14.838128",
     "exception": false,
     "start_time": "2022-08-02T17:55:14.833724",
     "status": "completed"
    },
    "tags": []
   },
   "source": [
    "# Installing contractions and autocorrect offline"
   ]
  },
  {
   "cell_type": "markdown",
   "id": "f2a6b0ec",
   "metadata": {
    "papermill": {
     "duration": 0.003935,
     "end_time": "2022-08-02T17:55:14.847041",
     "exception": false,
     "start_time": "2022-08-02T17:55:14.843106",
     "status": "completed"
    },
    "tags": []
   },
   "source": [
    "collected autocorrect utilities from [here](https://www.kaggle.com/datasets/kaggleqrdl/autocorrect) "
   ]
  },
  {
   "cell_type": "code",
   "execution_count": 1,
   "id": "487baa05",
   "metadata": {
    "execution": {
     "iopub.execute_input": "2022-08-02T17:55:14.857678Z",
     "iopub.status.busy": "2022-08-02T17:55:14.856878Z",
     "iopub.status.idle": "2022-08-02T17:56:13.311859Z",
     "shell.execute_reply": "2022-08-02T17:56:13.310702Z"
    },
    "papermill": {
     "duration": 58.463921,
     "end_time": "2022-08-02T17:56:13.315076",
     "exception": false,
     "start_time": "2022-08-02T17:55:14.851155",
     "status": "completed"
    },
    "tags": []
   },
   "outputs": [
    {
     "name": "stdout",
     "output_type": "stream",
     "text": [
      "Processing /kaggle/input/pycontractions/results/anyascii-0.3.1-py3-none-any.whl\r\n",
      "Installing collected packages: anyascii\r\n",
      "Successfully installed anyascii-0.3.1\r\n",
      "\u001b[33mWARNING: Running pip as the 'root' user can result in broken permissions and conflicting behaviour with the system package manager. It is recommended to use a virtual environment instead: https://pip.pypa.io/warnings/venv\u001b[0m\u001b[33m\r\n",
      "\u001b[0mProcessing /kaggle/input/pycontractions/results/pyahocorasick-1.4.4-cp37-cp37m-manylinux_2_17_x86_64.manylinux2014_x86_64.whl\r\n",
      "Installing collected packages: pyahocorasick\r\n",
      "Successfully installed pyahocorasick-1.4.4\r\n",
      "\u001b[33mWARNING: Running pip as the 'root' user can result in broken permissions and conflicting behaviour with the system package manager. It is recommended to use a virtual environment instead: https://pip.pypa.io/warnings/venv\u001b[0m\u001b[33m\r\n",
      "\u001b[0mProcessing /kaggle/input/pycontractions/results/textsearch-0.0.21-py2.py3-none-any.whl\r\n",
      "Requirement already satisfied: pyahocorasick in /opt/conda/lib/python3.7/site-packages (from textsearch==0.0.21) (1.4.4)\r\n",
      "Requirement already satisfied: anyascii in /opt/conda/lib/python3.7/site-packages (from textsearch==0.0.21) (0.3.1)\r\n",
      "Installing collected packages: textsearch\r\n",
      "Successfully installed textsearch-0.0.21\r\n",
      "\u001b[33mWARNING: Running pip as the 'root' user can result in broken permissions and conflicting behaviour with the system package manager. It is recommended to use a virtual environment instead: https://pip.pypa.io/warnings/venv\u001b[0m\u001b[33m\r\n",
      "\u001b[0mProcessing /kaggle/input/pycontractions/results/contractions-0.1.72-py2.py3-none-any.whl\r\n",
      "Requirement already satisfied: textsearch>=0.0.21 in /opt/conda/lib/python3.7/site-packages (from contractions==0.1.72) (0.0.21)\r\n",
      "Requirement already satisfied: pyahocorasick in /opt/conda/lib/python3.7/site-packages (from textsearch>=0.0.21->contractions==0.1.72) (1.4.4)\r\n",
      "Requirement already satisfied: anyascii in /opt/conda/lib/python3.7/site-packages (from textsearch>=0.0.21->contractions==0.1.72) (0.3.1)\r\n",
      "Installing collected packages: contractions\r\n",
      "Successfully installed contractions-0.1.72\r\n",
      "\u001b[33mWARNING: Running pip as the 'root' user can result in broken permissions and conflicting behaviour with the system package manager. It is recommended to use a virtual environment instead: https://pip.pypa.io/warnings/venv\u001b[0m\u001b[33m\r\n",
      "\u001b[0m\u001b[33mWARNING: Running pip as the 'root' user can result in broken permissions and conflicting behaviour with the system package manager. It is recommended to use a virtual environment instead: https://pip.pypa.io/warnings/venv\u001b[0m\u001b[33m\r\n",
      "\u001b[0m"
     ]
    }
   ],
   "source": [
    "!pip install ../input/pycontractions/results/anyascii-0.3.1-py3-none-any.whl\n",
    "!pip install ../input/pycontractions/results/pyahocorasick-1.4.4-cp37-cp37m-manylinux_2_17_x86_64.manylinux2014_x86_64.whl\n",
    "!pip install ../input/pycontractions/results/textsearch-0.0.21-py2.py3-none-any.whl\n",
    "!pip install ../input/pycontractions/results/contractions-0.1.72-py2.py3-none-any.whl\n",
    "!pip install -q \"../input/autocorrect/autocorrect-2.6.1.tar\"\n"
   ]
  },
  {
   "cell_type": "markdown",
   "id": "17257907",
   "metadata": {
    "papermill": {
     "duration": 0.004824,
     "end_time": "2022-08-02T17:56:13.325264",
     "exception": false,
     "start_time": "2022-08-02T17:56:13.320440",
     "status": "completed"
    },
    "tags": []
   },
   "source": [
    "# Imports"
   ]
  },
  {
   "cell_type": "code",
   "execution_count": 2,
   "id": "5e88b9ef",
   "metadata": {
    "execution": {
     "iopub.execute_input": "2022-08-02T17:56:13.338222Z",
     "iopub.status.busy": "2022-08-02T17:56:13.337362Z",
     "iopub.status.idle": "2022-08-02T17:56:15.319702Z",
     "shell.execute_reply": "2022-08-02T17:56:15.318657Z"
    },
    "papermill": {
     "duration": 1.992097,
     "end_time": "2022-08-02T17:56:15.322481",
     "exception": false,
     "start_time": "2022-08-02T17:56:13.330384",
     "status": "completed"
    },
    "tags": []
   },
   "outputs": [],
   "source": [
    "from autocorrect import Speller\n",
    "import contractions,autocorrect\n",
    "import nltk\n",
    "# nltk.download('words')\n",
    "# nltk.download('punkt')\n",
    "from nltk.corpus import brown,words\n",
    "import pandas as pd"
   ]
  },
  {
   "cell_type": "markdown",
   "id": "d89ff60c",
   "metadata": {
    "papermill": {
     "duration": 0.004907,
     "end_time": "2022-08-02T17:56:15.332654",
     "exception": false,
     "start_time": "2022-08-02T17:56:15.327747",
     "status": "completed"
    },
    "tags": []
   },
   "source": [
    "# compound word splitter"
   ]
  },
  {
   "cell_type": "markdown",
   "id": "e0fb1d0e",
   "metadata": {
    "papermill": {
     "duration": 0.004713,
     "end_time": "2022-08-02T17:56:15.342502",
     "exception": false,
     "start_time": "2022-08-02T17:56:15.337789",
     "status": "completed"
    },
    "tags": []
   },
   "source": [
    "part of code below was collected from [compound word splitter ](https://github.com/TimKam/compound-word-splitter) which Splits words that are not recognized by pyenchant (spell checker) into largest possible compounds. these are my contributions\n",
    "1. replaced pyenchant with nltk and autocorrect instead, because of issues like [this](https://github.com/chiphuyen/sotawhat/issues/7)\n",
    "2. added better error handlers\n",
    "3. added contractions fixer\n",
    "4. preprocessing\n",
    "5. error analysis demo"
   ]
  },
  {
   "cell_type": "code",
   "execution_count": 3,
   "id": "ce069445",
   "metadata": {
    "execution": {
     "iopub.execute_input": "2022-08-02T17:56:15.354828Z",
     "iopub.status.busy": "2022-08-02T17:56:15.354389Z",
     "iopub.status.idle": "2022-08-02T17:56:15.375137Z",
     "shell.execute_reply": "2022-08-02T17:56:15.373913Z"
    },
    "papermill": {
     "duration": 0.031052,
     "end_time": "2022-08-02T17:56:15.378553",
     "exception": false,
     "start_time": "2022-08-02T17:56:15.347501",
     "status": "completed"
    },
    "tags": []
   },
   "outputs": [
    {
     "name": "stdout",
     "output_type": "stream",
     "text": [
      "nltk version ->  3.7\n"
     ]
    }
   ],
   "source": [
    "\n",
    "print(\"nltk version -> \",nltk.__version__)\n",
    "\n",
    "def autospell(text):\n",
    "    spell = Speller(lang='en', fast=False)\n",
    "    spells = [spell(w) for w in (nltk.word_tokenize(text))]\n",
    "    return \" \".join(spells) \n",
    "\n",
    "def __concat(object1, object2):\n",
    "    unicode = str\n",
    "    if isinstance(object1, str) or isinstance(object1, unicode):\n",
    "        object1 = [object1]\n",
    "    if isinstance(object2, str) or isinstance(object2, unicode):\n",
    "        object2 = [object2]\n",
    "    return object1 + object2\n",
    "\n",
    "\n",
    "def __capitalize_first_char(word):\n",
    "    return word[0].upper() + word[1:]\n",
    "\n",
    "\n",
    "def split(word, language='en'):\n",
    "    \n",
    "    dictionary = set(words.words())\n",
    "    max_index = len(word)\n",
    "    for index, char in enumerate(word):\n",
    "        left_compound = word[0:max_index-index]\n",
    "        right_compound_1 = word[max_index-index:max_index]\n",
    "        right_compound_2 = word[max_index-index+1:max_index]\n",
    "        if right_compound_1:\n",
    "            right_compound1_upper = right_compound_1[0].isupper()\n",
    "        if right_compound_2:\n",
    "            right_compound2_upper = right_compound_2[0].isupper()\n",
    "      \n",
    "        if index > 0 and len(left_compound) > 1 and not left_compound in dictionary:\n",
    "            left_compound = __capitalize_first_char(left_compound)\n",
    "        is_left_compound_valid_word = len(left_compound) > 1 and left_compound in dictionary\n",
    "        if is_left_compound_valid_word and \\\n",
    "                ((not split(right_compound_1, language) == '' and not right_compound1_upper) \\\n",
    "                or right_compound_1 == ''):\n",
    "            return [compound for compound in __concat(left_compound, split(right_compound_1, language))\\\n",
    "                    if not compound == '']\n",
    "        elif is_left_compound_valid_word and word[max_index-index:max_index-index+1] == 's' and \\\n",
    "            ((not split(right_compound_2, language) == '' and not right_compound2_upper) \\\n",
    "            or right_compound_2 == ''):\n",
    "            return [compound for compound in __concat(left_compound, split(right_compound_2, language))\\\n",
    "                    if not compound == '']\n",
    "  \n",
    "    if not word == '' and word in dictionary:\n",
    "        return [word]\n",
    "    \n",
    "    elif not word == '' and __capitalize_first_char(word) in dictionary:\n",
    "        return [__capitalize_first_char(word)]\n",
    "    else:\n",
    "        return \"\"\n",
    "    \n",
    "def efficient_autospell(words):\n",
    "    words = words.lower() #without it the previous algo implementation didn't work for upper case char in middle\n",
    "    \n",
    "    expanded_words = []   \n",
    "    for word in words.split():\n",
    "        expanded_words.append(contractions.fix(word))  \n",
    "    words = ' '.join(expanded_words)\n",
    "    \n",
    "    expanded_words = []\n",
    "    for word in words.split():\n",
    "        if(\"’\" in word):\n",
    "            expanded_words.append([word])\n",
    "            continue\n",
    "        if(\"sep\" == word):\n",
    "            expanded_words.append([word])\n",
    "            continue\n",
    "        output = split(word)\n",
    "        if(output == \"\"):\n",
    "            try:\n",
    "                output = autospell(word)\n",
    "            except:\n",
    "                print(word)\n",
    "                continue\n",
    "            output = [output]\n",
    "        expanded_words.append(output)\n",
    "      \n",
    "\n",
    "    text = ' '.join(' '.join(l) for l in expanded_words) \n",
    "\n",
    "    return text\n",
    "\n"
   ]
  },
  {
   "cell_type": "markdown",
   "id": "c98e3eab",
   "metadata": {
    "papermill": {
     "duration": 0.005588,
     "end_time": "2022-08-02T17:56:15.389460",
     "exception": false,
     "start_time": "2022-08-02T17:56:15.383872",
     "status": "completed"
    },
    "tags": []
   },
   "source": [
    "the dict below was collected from [here](https://www.kaggle.com/code/dlaststark/fpe-no-fancy-stuff)"
   ]
  },
  {
   "cell_type": "code",
   "execution_count": 4,
   "id": "f3dc0cd1",
   "metadata": {
    "execution": {
     "iopub.execute_input": "2022-08-02T17:56:15.402162Z",
     "iopub.status.busy": "2022-08-02T17:56:15.401423Z",
     "iopub.status.idle": "2022-08-02T17:56:15.423958Z",
     "shell.execute_reply": "2022-08-02T17:56:15.422762Z"
    },
    "papermill": {
     "duration": 0.032168,
     "end_time": "2022-08-02T17:56:15.426752",
     "exception": false,
     "start_time": "2022-08-02T17:56:15.394584",
     "status": "completed"
    },
    "tags": []
   },
   "outputs": [],
   "source": [
    "misspell_mapping = {\n",
    "    'studentdesigned': 'student designed',\n",
    "    'teacherdesigned': 'teacher designed',\n",
    "    'genericname': 'generic name',\n",
    "    'winnertakeall': 'winner take all',\n",
    "    'studentname': 'student name',\n",
    "    'driveless': 'driverless',\n",
    "    'teachername': 'teacher name',\n",
    "    'propername': 'proper name',\n",
    "    'bestlaid': 'best laid',\n",
    "    'genericschool': 'generic school',\n",
    "    'schoolname': 'school name',\n",
    "    'winnertakesall': 'winner take all',\n",
    "    'elctoral': 'electoral',\n",
    "    'eletoral': 'electoral',\n",
    "    'genericcity': 'generic city',\n",
    "    'elctors': 'electoral',\n",
    "    'venuse': 'venue',\n",
    "    'blimplike': 'blimp like',\n",
    "    'selfdriving': 'self driving',\n",
    "    'electorals': 'electoral',\n",
    "    'nearrecord': 'near record',\n",
    "    'egyptianstyle': 'egyptian style',\n",
    "    'oddnumbered': 'odd numbered',\n",
    "    'carintensive': 'car intensive',\n",
    "    'elecoral': 'electoral',\n",
    "    'oction': 'auction',\n",
    "    'electroal': 'electoral',\n",
    "    'evennumbered': 'even numbered',\n",
    "    'mesalandforms': 'mesa landforms',\n",
    "    'electoralvote': 'electoral vote',\n",
    "    'relativename': 'relative name',\n",
    "    '22euro': 'twenty two euro',\n",
    "    'ellectoral': 'electoral',\n",
    "    'thirtyplus': 'thirty plus',\n",
    "    'collegewon': 'college won',\n",
    "    'hisher': 'higher',\n",
    "    'teacherbased': 'teacher based',\n",
    "    'computeranimated': 'computer animated',\n",
    "    'canadidate': 'candidate',\n",
    "    'studentbased': 'student based',\n",
    "    'gorethanks': 'gore thanks',\n",
    "    'clouddraped': 'cloud draped',\n",
    "    'edgarsnyder': 'edgar snyder',\n",
    "    'emotionrecognition': 'emotion recognition',\n",
    "    'landfrom': 'land form',\n",
    "    'fivedays': 'five days',\n",
    "    'electoal': 'electoral',\n",
    "    'lanform': 'land form',\n",
    "    'electral': 'electoral',\n",
    "    'presidentbut': 'president but',\n",
    "    'teacherassigned': 'teacher assigned',\n",
    "    'beacuas': 'because',\n",
    "    'positionestimating': 'position estimating',\n",
    "    'selfeducation': 'self education',\n",
    "    'diverless': 'driverless',\n",
    "    'computerdriven': 'computer driven',\n",
    "    'outofcontrol': 'out of control',\n",
    "    'faultthe': 'fault the',\n",
    "    'unfairoutdated': 'unfair outdated',\n",
    "    'aviods': 'avoid',\n",
    "    'momdad': 'mom dad',\n",
    "    'statesbig': 'states big',\n",
    "    'presidentswing': 'president swing',\n",
    "    'inconclusion': 'in conclusion',\n",
    "    'handsonlearning': 'hands on learning',\n",
    "    'electroral': 'electoral',\n",
    "    'carowner': 'car owner',\n",
    "    'elecotral': 'electoral',\n",
    "    'studentassigned': 'student assigned',\n",
    "    'collegefive': 'college five',\n",
    "    'presidant': 'president',\n",
    "    'unfairoutdatedand': 'unfair outdated and',\n",
    "    'nixonjimmy': 'nixon jimmy',\n",
    "    'canadates': 'candidate',\n",
    "    'tabletennis': 'table tennis',\n",
    "    'himher': 'him her',\n",
    "    'studentsummerpacketdesigners': 'student summer packet designers',\n",
    "    'studentdesign': 'student designed',\n",
    "    'limting': 'limiting',\n",
    "    'electrol': 'electoral',\n",
    "    'campaignto': 'campaign to',\n",
    "    'presendent': 'president',\n",
    "    'thezebra': 'the zebra',\n",
    "    'landformation': 'land formation',\n",
    "    'eyetoeye': 'eye to eye',\n",
    "    'selfreliance': 'self reliance',\n",
    "    'studentdriven': 'student driven',\n",
    "    'winnertake': 'winner take',\n",
    "    'alliens': 'aliens',\n",
    "    '2000but': '2000 but',\n",
    "    'electionto': 'election to',\n",
    "    'candidatesas': 'candidates as',\n",
    "    'electers': 'electoral',\n",
    "    'winnertakes': 'winner takes',\n",
    "    'isfeet': 'is feet',\n",
    "    'incar': 'incur',\n",
    "    'covid19': 'something',\n",
    "    'aflcio': '',\n",
    "    'outdatedand': 'outdated and',\n",
    "    'httpswww': '',\n",
    "    '51998': '',\n",
    "    'iswing': '',\n",
    "    'ascertainments': '',\n",
    "    'athome': '',\n",
    "    'risorius': '',\n",
    "    'votes538': '',\n",
    "    '41971': '',\n",
    "    'palpabraeus': '',\n",
    "    'figurelandform': 'figure landform',\n",
    "    'possibleit': 'possible it',\n",
    "    'takeall': 'take all',\n",
    "    'inschool': 'in school',\n",
    "    'fouces': 'focus',\n",
    "    'presidentand': 'president and',\n",
    "    'elecotrs': 'electoral',\n",
    "    'formationwhich': 'formation which',\n",
    "    'electorswho': 'electoral who',\n",
    "    'presidnt': 'president',\n",
    "    'eletors': 'electoral',\n",
    "    'sinceraly': 'sincerely',\n",
    "    'emotionshappiness': 'emotions happiness',\n",
    "    'carterbob': 'carter bob',\n",
    "    'donÃ£Ã¢t': 'do not',\n",
    "    'eyesnose': 'eyes nose',\n",
    "    'smartroad': 'smart road',\n",
    "    'systemvoters': 'system voters',\n",
    "    'emtions': 'emotions',\n",
    "    'statedemocrats': 'state democrats',\n",
    "    'lowcar': 'low car',\n",
    "    'elcetoral': 'electoral',\n",
    "    'expressivefor': 'expressive for',\n",
    "    'animails': 'animals',\n",
    "    'oppertonuty': 'opportunity',\n",
    "    'tempetures': 'temperature',\n",
    "    'recevies': 'receives',\n",
    "    'twoseat': 'two seat',\n",
    "    'consistution': 'constitution',\n",
    "    'horsesyoung': 'horses young',\n",
    "    'semidriverless': 'semi driverless',\n",
    "    'presisdent': 'president',\n",
    "    'exspression': 'expression',\n",
    "    'valcanoes': 'volcano',\n",
    "    'actiry': '',\n",
    "    'lifejust': 'life just',\n",
    "    'selfreliant': 'self reliant',\n",
    "    'comcaraccidentcauseofaccidentcellphonecellphonestatistics': 'car accident cause of accident cellphone statistics',\n",
    "    'vaubangermany': 'germany',\n",
    "    'fourtyfour': 'fourty four',\n",
    "    'atomspheric': 'atmospheric',\n",
    "    'mid1990': '',\n",
    "    'activitis': 'activities',\n",
    "    'paragrpah': 'paragraph',\n",
    "    'electora': 'electoral',\n",
    "    'elcetion': 'election',\n",
    "    'stressfree': 'stress free',\n",
    "    'seegoing': 'see going',\n",
    "    'coferencing': 'conferencing',\n",
    "    'ctrdot': '',\n",
    "    'segoing': '',\n",
    "    'teacherdesign': 'teacher design',\n",
    "    'kidsteens': 'kids teens',\n",
    "    'elcetors': 'electoral',\n",
    "    'poulltion': 'pollution',\n",
    "    'surportive': 'supportive',\n",
    "    'presisent': 'president',\n",
    "    'technollogy': 'technology',\n",
    "    'precidency': 'president',\n",
    "    'voteswhile': 'votes while',\n",
    "    'headformed': 'head formed',\n",
    "    'swingstates': 'swing states',\n",
    "    'candates': 'candidate',\n",
    "    'locationname': 'location name',\n",
    "    'venuss': 'venues',\n",
    "    'astronmers': 'astronomers',\n",
    "    'democtratic': 'democratic',\n",
    "    'canadent': 'candidate',\n",
    "    'cyndonia': '',\n",
    "    'computure': 'computer',\n",
    "    'nasas': 'nasa',\n",
    "    'onehalf': 'one half',\n",
    "    'preident': 'president',\n",
    "    'ressons': 'reasons',\n",
    "    'presidentvice': 'president vice',\n",
    "    'nonswing': 'non swing',\n",
    "    'thirtyeight': 'thirty eight',\n",
    "    'processnot': 'process not',\n",
    "    'facetoface': 'face to face',\n",
    "    'teendriversource': 'teen driver source',\n",
    "    'sadnessand': 'sadness and',\n",
    "    'abloish': 'abolish',\n",
    "    'driveing': 'driving',\n",
    "    'navagating': 'navigating',\n",
    "    'electorsthe': 'electoral',\n",
    "    'vothing': 'voting',\n",
    "    'callage': 'college',\n",
    "    'senseit': 'sense it',\n",
    "    'mercedesbenz': 'mercedes benz',\n",
    "    'electorall': 'electoral'\n",
    "}"
   ]
  },
  {
   "cell_type": "code",
   "execution_count": 5,
   "id": "b7adbf94",
   "metadata": {
    "execution": {
     "iopub.execute_input": "2022-08-02T17:56:15.439300Z",
     "iopub.status.busy": "2022-08-02T17:56:15.438890Z",
     "iopub.status.idle": "2022-08-02T17:56:15.457572Z",
     "shell.execute_reply": "2022-08-02T17:56:15.456364Z"
    },
    "papermill": {
     "duration": 0.027916,
     "end_time": "2022-08-02T17:56:15.460175",
     "exception": false,
     "start_time": "2022-08-02T17:56:15.432259",
     "status": "completed"
    },
    "tags": []
   },
   "outputs": [
    {
     "data": {
      "text/plain": [
       "197"
      ]
     },
     "execution_count": 5,
     "metadata": {},
     "output_type": "execute_result"
    }
   ],
   "source": [
    "\n",
    "df = pd.DataFrame(columns=['input', 'output'],index=range(1, len(misspell_mapping)))\n",
    "\n",
    "len(df)"
   ]
  },
  {
   "cell_type": "code",
   "execution_count": 6,
   "id": "0d7df29a",
   "metadata": {
    "execution": {
     "iopub.execute_input": "2022-08-02T17:56:15.473275Z",
     "iopub.status.busy": "2022-08-02T17:56:15.472490Z",
     "iopub.status.idle": "2022-08-02T18:00:25.918911Z",
     "shell.execute_reply": "2022-08-02T18:00:25.917664Z"
    },
    "papermill": {
     "duration": 250.456369,
     "end_time": "2022-08-02T18:00:25.922018",
     "exception": false,
     "start_time": "2022-08-02T17:56:15.465649",
     "status": "completed"
    },
    "tags": []
   },
   "outputs": [],
   "source": [
    "if __name__ == \"__main__\":\n",
    "    for idx,bad_word in enumerate(misspell_mapping):\n",
    "        correct_text = efficient_autospell(bad_word) \n",
    "        df.input[idx] = bad_word\n",
    "        df.output[idx] = correct_text\n",
    "    df.to_csv('error_analyst.csv',index = False)"
   ]
  },
  {
   "cell_type": "code",
   "execution_count": 7,
   "id": "b3b4a44c",
   "metadata": {
    "execution": {
     "iopub.execute_input": "2022-08-02T18:00:25.935338Z",
     "iopub.status.busy": "2022-08-02T18:00:25.934890Z",
     "iopub.status.idle": "2022-08-02T18:00:25.950197Z",
     "shell.execute_reply": "2022-08-02T18:00:25.948889Z"
    },
    "papermill": {
     "duration": 0.025095,
     "end_time": "2022-08-02T18:00:25.953077",
     "exception": false,
     "start_time": "2022-08-02T18:00:25.927982",
     "status": "completed"
    },
    "tags": []
   },
   "outputs": [
    {
     "data": {
      "text/html": [
       "<div>\n",
       "<style scoped>\n",
       "    .dataframe tbody tr th:only-of-type {\n",
       "        vertical-align: middle;\n",
       "    }\n",
       "\n",
       "    .dataframe tbody tr th {\n",
       "        vertical-align: top;\n",
       "    }\n",
       "\n",
       "    .dataframe thead th {\n",
       "        text-align: right;\n",
       "    }\n",
       "</style>\n",
       "<table border=\"1\" class=\"dataframe\">\n",
       "  <thead>\n",
       "    <tr style=\"text-align: right;\">\n",
       "      <th></th>\n",
       "      <th>input</th>\n",
       "      <th>output</th>\n",
       "    </tr>\n",
       "  </thead>\n",
       "  <tbody>\n",
       "    <tr>\n",
       "      <th>1</th>\n",
       "      <td>teacherdesigned</td>\n",
       "      <td>teacher designed</td>\n",
       "    </tr>\n",
       "    <tr>\n",
       "      <th>2</th>\n",
       "      <td>genericname</td>\n",
       "      <td>generic name</td>\n",
       "    </tr>\n",
       "    <tr>\n",
       "      <th>3</th>\n",
       "      <td>winnertakeall</td>\n",
       "      <td>winner take all</td>\n",
       "    </tr>\n",
       "    <tr>\n",
       "      <th>4</th>\n",
       "      <td>studentname</td>\n",
       "      <td>student name</td>\n",
       "    </tr>\n",
       "    <tr>\n",
       "      <th>5</th>\n",
       "      <td>driveless</td>\n",
       "      <td>drivel ess</td>\n",
       "    </tr>\n",
       "  </tbody>\n",
       "</table>\n",
       "</div>"
      ],
      "text/plain": [
       "             input            output\n",
       "1  teacherdesigned  teacher designed\n",
       "2      genericname      generic name\n",
       "3    winnertakeall   winner take all\n",
       "4      studentname      student name\n",
       "5        driveless        drivel ess"
      ]
     },
     "execution_count": 7,
     "metadata": {},
     "output_type": "execute_result"
    }
   ],
   "source": [
    "df.head()"
   ]
  },
  {
   "cell_type": "markdown",
   "id": "c6f19349",
   "metadata": {
    "papermill": {
     "duration": 0.005386,
     "end_time": "2022-08-02T18:00:25.964404",
     "exception": false,
     "start_time": "2022-08-02T18:00:25.959018",
     "status": "completed"
    },
    "tags": []
   },
   "source": [
    "# findings and improvement scopes\n",
    "1. we've observed that it works well for few bad samples but at the same time it converts few good samples into bad ones,example -> driveless to 'drivel ess'\n",
    "2. slow/time consuming"
   ]
  },
  {
   "cell_type": "code",
   "execution_count": null,
   "id": "77528018",
   "metadata": {
    "papermill": {
     "duration": 0.005415,
     "end_time": "2022-08-02T18:00:25.975418",
     "exception": false,
     "start_time": "2022-08-02T18:00:25.970003",
     "status": "completed"
    },
    "tags": []
   },
   "outputs": [],
   "source": []
  }
 ],
 "metadata": {
  "kernelspec": {
   "display_name": "Python 3",
   "language": "python",
   "name": "python3"
  },
  "language_info": {
   "codemirror_mode": {
    "name": "ipython",
    "version": 3
   },
   "file_extension": ".py",
   "mimetype": "text/x-python",
   "name": "python",
   "nbconvert_exporter": "python",
   "pygments_lexer": "ipython3",
   "version": "3.7.12"
  },
  "papermill": {
   "default_parameters": {},
   "duration": 321.192955,
   "end_time": "2022-08-02T18:00:26.805750",
   "environment_variables": {},
   "exception": null,
   "input_path": "__notebook__.ipynb",
   "output_path": "__notebook__.ipynb",
   "parameters": {},
   "start_time": "2022-08-02T17:55:05.612795",
   "version": "2.3.4"
  }
 },
 "nbformat": 4,
 "nbformat_minor": 5
}
